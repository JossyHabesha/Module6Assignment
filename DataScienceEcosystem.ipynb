{
 "cells": [
  {
   "cell_type": "code",
   "execution_count": 2,
   "id": "c2019355",
   "metadata": {},
   "outputs": [],
   "source": [
    "#Data Science Tools and Ecosystem"
   ]
  },
  {
   "cell_type": "code",
   "execution_count": null,
   "id": "cff4e8d3",
   "metadata": {},
   "outputs": [],
   "source": [
    "#In this notebook, Data Science Tools and Ecosystem are summarized."
   ]
  },
  {
   "cell_type": "code",
   "execution_count": null,
   "id": "b9f4a3f6",
   "metadata": {},
   "outputs": [],
   "source": [
    "**Objectives:**\n",
    "\n",
    "- List popular languages for Data Science\n",
    "- Identify commonly used libraries in Data Science\n",
    "- Create and format markdown cells in Jupyter Notebook\n",
    "- Understand the basics of GitHub repositories\n",
    "- Demonstrate arithmetic expression examples in Python"
   ]
  },
  {
   "cell_type": "code",
   "execution_count": null,
   "id": "b068ab91",
   "metadata": {},
   "outputs": [],
   "source": [
    "#Some of the popular languages that Data Scientists use are:\n",
    "    python \n",
    "    R\n",
    "    SQL"
   ]
  },
  {
   "cell_type": "code",
   "execution_count": null,
   "id": "8a4c9bd0",
   "metadata": {},
   "outputs": [],
   "source": [
    "#Some of the commonly used libraries used by Data Scientists include:\n",
    "- NumPy\n",
    "- Pandas\n",
    "- Matplotlib"
   ]
  },
  {
   "cell_type": "code",
   "execution_count": null,
   "id": "ba023448",
   "metadata": {},
   "outputs": [],
   "source": [
    "| Data Science Tools           |\n",
    "|------------------------------|\n",
    "| Jupyter Notebook             |\n",
    "| RStudio                      |\n",
    "| Apache Zeppelin              |"
   ]
  },
  {
   "cell_type": "code",
   "execution_count": null,
   "id": "c829b63b",
   "metadata": {},
   "outputs": [],
   "source": [
    "###Below are a few examples of evaluating arithmetic expressions in Python\n",
    "adition +\n",
    "subtraction -\n",
    "mulitplication *\n"
   ]
  },
  {
   "cell_type": "code",
   "execution_count": 6,
   "id": "97a77466",
   "metadata": {},
   "outputs": [
    {
     "data": {
      "text/plain": [
       "17"
      ]
     },
     "execution_count": 6,
     "metadata": {},
     "output_type": "execute_result"
    }
   ],
   "source": [
    "#This a simple arithmetic expression to mutiply then add integers\n",
    "A=3\n",
    "B=4\n",
    "C=5\n",
    "(A*B)+5"
   ]
  },
  {
   "cell_type": "code",
   "execution_count": 10,
   "id": "ed8996ca",
   "metadata": {},
   "outputs": [
    {
     "name": "stdout",
     "output_type": "stream",
     "text": [
      "3.3333333333333335\n"
     ]
    }
   ],
   "source": [
    "#This will convert 200 minutes to hours by diving by 60\n",
    "m=200\n",
    "h=m/60\n",
    "print(h)"
   ]
  },
  {
   "cell_type": "code",
   "execution_count": null,
   "id": "9bf7adde",
   "metadata": {},
   "outputs": [],
   "source": [
    "## Author\n",
    "\n",
    "Yosef Masresha"
   ]
  }
 ],
 "metadata": {
  "kernelspec": {
   "display_name": "Python 3 (ipykernel)",
   "language": "python",
   "name": "python3"
  },
  "language_info": {
   "codemirror_mode": {
    "name": "ipython",
    "version": 3
   },
   "file_extension": ".py",
   "mimetype": "text/x-python",
   "name": "python",
   "nbconvert_exporter": "python",
   "pygments_lexer": "ipython3",
   "version": "3.11.5"
  }
 },
 "nbformat": 4,
 "nbformat_minor": 5
}
